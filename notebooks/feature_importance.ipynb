{
 "cells": [
  {
   "cell_type": "markdown",
   "metadata": {},
   "source": [
    "## Inspect feature Importance"
   ]
  },
  {
   "cell_type": "code",
   "execution_count": 1,
   "metadata": {},
   "outputs": [],
   "source": [
    "import pandas as pd\n",
    "import numpy as np \n",
    "import matplotlib.pyplot as plt\n",
    "from pathlib import Path\n",
    "import joblib\n",
    "\n",
    "import sys\n",
    "sys.path.append(\"..\")\n",
    "import warnings\n",
    "warnings.filterwarnings(\"ignore\")\n",
    "\n",
    "from ml_editor.data_processing import (\n",
    "    format_raw_df,\n",
    "    get_split_by_author,\n",
    "    add_text_features_to_df,\n",
    "    get_vectorized_series,\n",
    "    get_feature_vector_and_label\n",
    ")\n",
    "\n",
    "from ml_editor.model_evaluation import get_feature_importance\n",
    "\n",
    "data_path=Path(\"../data/writers.csv\")\n",
    "df=pd.read_csv(data_path)\n",
    "df=format_raw_df(df.copy())\n"
   ]
  },
  {
   "cell_type": "code",
   "execution_count": 2,
   "metadata": {},
   "outputs": [],
   "source": [
    "df=add_text_features_to_df(df.loc[df[\"is_question\"]].copy())\n",
    "train_df, test_df = get_split_by_author(df, test_size=0.2, random_state=42)\n"
   ]
  },
  {
   "cell_type": "code",
   "execution_count": 3,
   "metadata": {},
   "outputs": [],
   "source": [
    "model_path=Path(\"../models/model_1.pkl\")\n",
    "clf=joblib.load(model_path)\n",
    "vectorizer_path=Path(\"../models/vectorizer_1.pkl\")\n",
    "vectorizer=joblib.load(vectorizer_path)"
   ]
  },
  {
   "cell_type": "code",
   "execution_count": 4,
   "metadata": {},
   "outputs": [],
   "source": [
    "train_df[\"vectors\"]=get_vectorized_series(train_df[\"full_text\"].copy(), vectorizer)\n",
    "test_df[\"vectors\"]=get_vectorized_series(test_df[\"full_text\"].copy(), vectorizer)\n",
    "\n",
    "features=[\n",
    "    \"action_verb_full\",\n",
    "    \"question_mark_full\",\n",
    "    \"text_len\",\n",
    "    \"language_question\"\n",
    "]\n",
    "\n",
    "X_train, y_train=get_feature_vector_and_label(train_df, features)\n",
    "X_test, y_test=get_feature_vector_and_label(test_df, features)"
   ]
  },
  {
   "cell_type": "code",
   "execution_count": 7,
   "metadata": {},
   "outputs": [],
   "source": [
    "w_indices=list(vectorizer.get_feature_names_out())\n",
    "w_indices.extend(features)\n",
    "all_feature_names=np.array(w_indices)"
   ]
  },
  {
   "cell_type": "code",
   "execution_count": 8,
   "metadata": {},
   "outputs": [
    {
     "name": "stdout",
     "output_type": "stream",
     "text": [
      "Top 10 importances:\n",
      "\n",
      "text_len: 0.0086\n",
      "are: 0.0056\n",
      "what: 0.0051\n",
      "writing: 0.0049\n",
      "ve: 0.0047\n",
      "story: 0.0043\n",
      "can: 0.0042\n",
      "do: 0.0041\n",
      "don: 0.0039\n",
      "with: 0.0038\n",
      "\n",
      "Bottom 10 importances:\n",
      "\n",
      "knit: 0\n",
      "balancing: 0\n",
      "smiling: 0\n",
      "smoke: 0\n",
      "smoking: 0\n",
      "snake: 0\n",
      "labor: 0\n",
      "labels: 0\n",
      "societies: 0\n",
      "comforting: 0\n"
     ]
    }
   ],
   "source": [
    "k = 10\n",
    "print(f\"Top {k} importances:\\n\")\n",
    "print('\\n'.join([f\"{tup[0]}: {tup[1]:.2g}\" for tup in get_feature_importance(clf, all_feature_names)[:k]]))\n",
    "\n",
    "print(f\"\\nBottom {k} importances:\\n\")\n",
    "print('\\n'.join([f\"{tup[0]}: {tup[1]:.2g}\" for tup in get_feature_importance(clf, all_feature_names)[-k:]]))\n"
   ]
  },
  {
   "cell_type": "code",
   "execution_count": null,
   "metadata": {},
   "outputs": [],
   "source": []
  },
  {
   "cell_type": "code",
   "execution_count": null,
   "metadata": {},
   "outputs": [],
   "source": []
  },
  {
   "cell_type": "code",
   "execution_count": null,
   "metadata": {},
   "outputs": [],
   "source": []
  },
  {
   "cell_type": "code",
   "execution_count": null,
   "metadata": {},
   "outputs": [],
   "source": []
  },
  {
   "cell_type": "code",
   "execution_count": null,
   "metadata": {},
   "outputs": [],
   "source": []
  },
  {
   "cell_type": "code",
   "execution_count": null,
   "metadata": {},
   "outputs": [],
   "source": []
  },
  {
   "cell_type": "code",
   "execution_count": null,
   "metadata": {},
   "outputs": [],
   "source": []
  },
  {
   "cell_type": "code",
   "execution_count": null,
   "metadata": {},
   "outputs": [],
   "source": []
  },
  {
   "cell_type": "code",
   "execution_count": null,
   "metadata": {},
   "outputs": [],
   "source": []
  },
  {
   "cell_type": "code",
   "execution_count": null,
   "metadata": {},
   "outputs": [],
   "source": []
  },
  {
   "cell_type": "code",
   "execution_count": null,
   "metadata": {},
   "outputs": [],
   "source": []
  },
  {
   "cell_type": "code",
   "execution_count": null,
   "metadata": {},
   "outputs": [],
   "source": []
  },
  {
   "cell_type": "code",
   "execution_count": null,
   "metadata": {},
   "outputs": [],
   "source": []
  },
  {
   "cell_type": "code",
   "execution_count": null,
   "metadata": {},
   "outputs": [],
   "source": []
  }
 ],
 "metadata": {
  "kernelspec": {
   "display_name": "gans",
   "language": "python",
   "name": "python3"
  },
  "language_info": {
   "codemirror_mode": {
    "name": "ipython",
    "version": 3
   },
   "file_extension": ".py",
   "mimetype": "text/x-python",
   "name": "python",
   "nbconvert_exporter": "python",
   "pygments_lexer": "ipython3",
   "version": "3.9.19"
  }
 },
 "nbformat": 4,
 "nbformat_minor": 2
}
